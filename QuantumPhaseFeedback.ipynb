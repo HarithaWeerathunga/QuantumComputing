{
 "cells": [
  {
   "cell_type": "markdown",
   "id": "033bdd22-f303-4153-b952-36420c92e91f",
   "metadata": {},
   "source": [
    "This notebook demonstrates an interesting quantum effect called phase feedback.\n",
    "\n",
    "You can execute the code by clicking the code cell below and pressing CTRL+ENTER\n",
    "    \n",
    "The execution can take a while, but is ready when you see a number appearing in the brackets in front of the code cell."
   ]
  },
  {
   "cell_type": "code",
   "execution_count": null,
   "id": "1a2007dd-8578-4ea8-b136-2de10de09b41",
   "metadata": {},
   "outputs": [],
   "source": [
    "import numpy as np\n",
    "\n",
    "# Importing standard Qiskit libraries\n",
    "from qiskit import QuantumCircuit, transpile, Aer, IBMQ\n",
    "from qiskit.tools.jupyter import *\n",
    "from qiskit.visualization import *\n",
    "from ibm_quantum_widgets import *\n",
    "from qiskit.providers.aer import QasmSimulator\n",
    "\n",
    "# Loading your IBM Quantum account(s)\n",
    "provider = IBMQ.load_account()"
   ]
  },
  {
   "cell_type": "markdown",
   "id": "881a7bab-ebb7-4d48-b45d-e1c54c4cacae",
   "metadata": {},
   "source": [
    "Let's first generate an empty quantum circuit with the extra libraies needed libraries needed for the exericse."
   ]
  },
  {
   "cell_type": "code",
   "execution_count": null,
   "id": "2487d0bb-13ab-446f-937d-1cf595ec612a",
   "metadata": {},
   "outputs": [],
   "source": [
    "import matplotlib\n",
    "\n",
    "from qiskit import QuantumRegister, ClassicalRegister\n",
    "qreg_q = QuantumRegister(2, 'q')\n",
    "creg_c = ClassicalRegister(2, 'c')\n"
   ]
  },
  {
   "cell_type": "markdown",
   "id": "eee07e90-627e-4b5c-9868-f5a4b1a186a6",
   "metadata": {},
   "source": [
    "There shouldn't be any output from that one, but there should again appear a number in the brackets on the left of the cell.\n",
    "\n",
    "Next let's initialise a simple circuit with two Hadamard gates and draw the circuit"
   ]
  },
  {
   "cell_type": "code",
   "execution_count": null,
   "id": "2681ec26-741a-40aa-9675-a3a4e49d09dd",
   "metadata": {},
   "outputs": [],
   "source": [
    "circuit = QuantumCircuit(qreg_q, creg_c)\n",
    "\n",
    "circuit.h(qreg_q[0])\n",
    "circuit.h(qreg_q[1])\n",
    "\n",
    "circuit.draw('mpl')"
   ]
  },
  {
   "cell_type": "markdown",
   "id": "000dcf50-76dc-446b-b3b8-e5af787b1545",
   "metadata": {},
   "source": [
    "Let's run the circuit and visualise the results"
   ]
  },
  {
   "cell_type": "code",
   "execution_count": null,
   "id": "6b718d69-19b6-41c1-a660-f9dcedba70cc",
   "metadata": {},
   "outputs": [],
   "source": [
    "backend_sim = Aer.get_backend('statevector_simulator')\n",
    "job_sim = backend_sim.run(transpile(circuit, backend_sim), shots=1024)\n",
    "\n",
    "result = job_sim.result()\n",
    "\n",
    "psi = result.get_statevector(circuit)\n",
    "plot_bloch_multivector(psi)"
   ]
  },
  {
   "cell_type": "markdown",
   "id": "93ddad70-08df-4e74-9a73-5be95f39ec29",
   "metadata": {},
   "source": [
    "Everything should be working as expected so far, the Hadamard pivots the basis states |0> and |1> from the Z axis to the X axis |+> and |->\n",
    "\n",
    "Let's try that again, with the change that the qubit 1 is first changed to |1>"
   ]
  },
  {
   "cell_type": "code",
   "execution_count": null,
   "id": "9a3671c7-f2d4-4bc0-8cba-e13a0d18dc78",
   "metadata": {},
   "outputs": [],
   "source": [
    "circuit = QuantumCircuit(qreg_q, creg_c)\n",
    "\n",
    "circuit.h(qreg_q[0])\n",
    "circuit.x(qreg_q[1])\n",
    "circuit.h(qreg_q[1])\n",
    "\n",
    "circuit.draw('mpl')"
   ]
  },
  {
   "cell_type": "markdown",
   "id": "c99a4572-8f43-4ae5-8566-56fdc8abb5e5",
   "metadata": {},
   "source": [
    "And let's view the resulting bloch speheres"
   ]
  },
  {
   "cell_type": "code",
   "execution_count": null,
   "id": "b8411286-b8e9-499f-81b7-de839cd0ca48",
   "metadata": {},
   "outputs": [],
   "source": [
    "backend_sim = Aer.get_backend('statevector_simulator')\n",
    "job_sim = backend_sim.run(transpile(circuit, backend_sim), shots=1024)\n",
    "\n",
    "result = job_sim.result()\n",
    "\n",
    "psi = result.get_statevector(circuit)\n",
    "plot_bloch_multivector(psi)"
   ]
  },
  {
   "cell_type": "markdown",
   "id": "80db6dbe-d56d-4637-ac1b-ac356bed51f6",
   "metadata": {},
   "source": [
    "As we can see, the phase of the qubit 1 has changed, which is supposed to happen when doing a Hadamard to |1> state.\n",
    "\n",
    "Now, let's do one more variation. Let's add a CNOT gate where qubit 0 is the control and qubit 1 is the target, and visualise that."
   ]
  },
  {
   "cell_type": "code",
   "execution_count": null,
   "id": "82552e5a-e5dd-4f33-be38-8bb32d290f67",
   "metadata": {},
   "outputs": [],
   "source": [
    "circuit = QuantumCircuit(qreg_q, creg_c)\n",
    "\n",
    "circuit.h(qreg_q[0])\n",
    "circuit.x(qreg_q[1])\n",
    "circuit.h(qreg_q[1])\n",
    "circuit.cx(qreg_q[0],qreg_q[1])\n",
    "\n",
    "circuit.draw('mpl')"
   ]
  },
  {
   "cell_type": "code",
   "execution_count": null,
   "id": "6fc8d2a0-6dd3-4f75-a2ae-8f934fb8281b",
   "metadata": {},
   "outputs": [],
   "source": [
    "backend_sim = Aer.get_backend('statevector_simulator')\n",
    "job_sim = backend_sim.run(transpile(circuit, backend_sim), shots=1024)\n",
    "\n",
    "result = job_sim.result()\n",
    "\n",
    "psi = result.get_statevector(circuit)\n",
    "plot_bloch_multivector(psi)"
   ]
  },
  {
   "cell_type": "markdown",
   "id": "8756ab3a-e2a0-4a90-939f-a086ea7b19c3",
   "metadata": {},
   "source": [
    "If you compare the result to the one before the CNOT, you should be able to notice an interesting difference.\n",
    "\n",
    "The control qubit, qubit 0, has changed phase while the target qubit is unchanged.\n",
    "\n",
    "Please select the File -> Save and Export Notebook as -> PDF and return it with the other exercise files.\n",
    "\n"
   ]
  }
 ],
 "metadata": {
  "kernelspec": {
   "display_name": "Qiskit v0.31.0 (ipykernel)",
   "language": "python",
   "name": "python3"
  },
  "language_info": {
   "codemirror_mode": {
    "name": "ipython",
    "version": 3
   },
   "file_extension": ".py",
   "mimetype": "text/x-python",
   "name": "python",
   "nbconvert_exporter": "python",
   "pygments_lexer": "ipython3",
   "version": "3.8.10"
  },
  "widgets": {
   "application/vnd.jupyter.widget-state+json": {
    "state": {},
    "version_major": 2,
    "version_minor": 0
   }
  }
 },
 "nbformat": 4,
 "nbformat_minor": 5
}
